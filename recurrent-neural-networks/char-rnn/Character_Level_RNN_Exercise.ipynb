{
 "cells": [
  {
   "cell_type": "markdown",
   "metadata": {},
   "source": [
    "# Character-Level LSTM in PyTorch\n",
    "\n",
    "In this notebook, I'll construct a character-level LSTM with PyTorch. The network will train character by character on some text, then generate new text character by character. As an example, I will train on Anna Karenina. **This model will be able to generate new text based on the text from the book!**\n",
    "\n",
    "This network is based off of Andrej Karpathy's [post on RNNs](http://karpathy.github.io/2015/05/21/rnn-effectiveness/) and [implementation in Torch](https://github.com/karpathy/char-rnn). Below is the general architecture of the character-wise RNN.\n",
    "\n",
    "<img src=\"assets/charseq.jpeg\" width=\"500\">"
   ]
  },
  {
   "cell_type": "markdown",
   "metadata": {},
   "source": [
    "First let's load in our required resources for data loading and model creation."
   ]
  },
  {
   "cell_type": "code",
   "execution_count": 1,
   "metadata": {
    "collapsed": true
   },
   "outputs": [],
   "source": [
    "import numpy as np\n",
    "import torch\n",
    "from torch import nn\n",
    "import torch.nn.functional as F"
   ]
  },
  {
   "cell_type": "markdown",
   "metadata": {},
   "source": [
    "## Load in Data\n",
    "\n",
    "Then, we'll load the Anna Karenina text file and convert it into integers for our network to use. "
   ]
  },
  {
   "cell_type": "code",
   "execution_count": 2,
   "metadata": {
    "collapsed": true
   },
   "outputs": [],
   "source": [
    "# open text file and read in data as `text`\n",
    "with open('data/anna.txt', 'r') as f:\n",
    "    text = f.read()"
   ]
  },
  {
   "cell_type": "markdown",
   "metadata": {},
   "source": [
    "Let's check out the first 100 characters, make sure everything is peachy. According to the [American Book Review](http://americanbookreview.org/100bestlines.asp), this is the 6th best first line of a book ever."
   ]
  },
  {
   "cell_type": "code",
   "execution_count": 17,
   "metadata": {},
   "outputs": [
    {
     "name": "stdout",
     "output_type": "stream",
     "text": [
      "1985223\n"
     ]
    }
   ],
   "source": [
    "text[:100]\n",
    "print(len(text))"
   ]
  },
  {
   "cell_type": "markdown",
   "metadata": {},
   "source": [
    "### Tokenization\n",
    "\n",
    "In the cells, below, I'm creating a couple **dictionaries** to convert the characters to and from integers. Encoding the characters as integers makes it easier to use as input in the network."
   ]
  },
  {
   "cell_type": "code",
   "execution_count": 4,
   "metadata": {
    "collapsed": true
   },
   "outputs": [],
   "source": [
    "# encode the text and map each character to an integer and vice versa\n",
    "\n",
    "# we create two dictionaries:\n",
    "# 1. int2char, which maps integers to characters\n",
    "# 2. char2int, which maps characters to unique integers\n",
    "chars = tuple(set(text))\n",
    "int2char = dict(enumerate(chars))\n",
    "char2int = {ch: ii for ii, ch in int2char.items()}\n",
    "\n",
    "# encode the text\n",
    "encoded = np.array([char2int[ch] for ch in text])"
   ]
  },
  {
   "cell_type": "markdown",
   "metadata": {},
   "source": [
    "And we can see those same characters from above, encoded as integers."
   ]
  },
  {
   "cell_type": "code",
   "execution_count": 5,
   "metadata": {},
   "outputs": [
    {
     "data": {
      "text/plain": [
       "array([ 4,  3, 82, 34, 67,  5,  8, 35, 61, 57, 57, 57, 47, 82, 34, 34, 27,\n",
       "       35, 69, 82, 36, 14, 40, 14,  5, 60, 35, 82,  8,  5, 35, 82, 40, 40,\n",
       "       35, 82, 40, 14,  0,  5, 38, 35,  5, 11,  5,  8, 27, 35, 25,  1,  3,\n",
       "       82, 34, 34, 27, 35, 69, 82, 36, 14, 40, 27, 35, 14, 60, 35, 25,  1,\n",
       "        3, 82, 34, 34, 27, 35, 14,  1, 35, 14, 67, 60, 35, 26, 48,  1, 57,\n",
       "       48, 82, 27,  6, 57, 57, 65, 11,  5,  8, 27, 67,  3, 14,  1])"
      ]
     },
     "execution_count": 5,
     "metadata": {},
     "output_type": "execute_result"
    }
   ],
   "source": [
    "encoded[:100]"
   ]
  },
  {
   "cell_type": "markdown",
   "metadata": {},
   "source": [
    "## Pre-processing the data\n",
    "\n",
    "As you can see in our char-RNN image above, our LSTM expects an input that is **one-hot encoded** meaning that each character is converted into an integer (via our created dictionary) and *then* converted into a column vector where only it's corresponding integer index will have the value of 1 and the rest of the vector will be filled with 0's. Since we're one-hot encoding the data, let's make a function to do that!\n"
   ]
  },
  {
   "cell_type": "code",
   "execution_count": 6,
   "metadata": {
    "collapsed": true
   },
   "outputs": [],
   "source": [
    "def one_hot_encode(arr, n_labels):\n",
    "    \n",
    "    # Initialize the the encoded array\n",
    "    one_hot = np.zeros((np.multiply(*arr.shape), n_labels), dtype=np.float32)\n",
    "    \n",
    "    # Fill the appropriate elements with ones\n",
    "    one_hot[np.arange(one_hot.shape[0]), arr.flatten()] = 1.\n",
    "    \n",
    "    # Finally reshape it to get back to the original array\n",
    "    one_hot = one_hot.reshape((*arr.shape, n_labels))\n",
    "    \n",
    "    return one_hot"
   ]
  },
  {
   "cell_type": "code",
   "execution_count": 7,
   "metadata": {},
   "outputs": [
    {
     "name": "stdout",
     "output_type": "stream",
     "text": [
      "[[[ 0.  0.  0.  1.  0.  0.  0.  0.]\n",
      "  [ 0.  0.  0.  0.  0.  1.  0.  0.]\n",
      "  [ 0.  1.  0.  0.  0.  0.  0.  0.]]]\n"
     ]
    }
   ],
   "source": [
    "# check that the function works as expected\n",
    "test_seq = np.array([[3, 5, 1]])\n",
    "one_hot = one_hot_encode(test_seq, 8)\n",
    "\n",
    "print(one_hot)"
   ]
  },
  {
   "cell_type": "markdown",
   "metadata": {},
   "source": [
    "## Making training mini-batches\n",
    "\n",
    "\n",
    "To train on this data, we also want to create mini-batches for training. Remember that we want our batches to be multiple sequences of some desired number of sequence steps. Considering a simple example, our batches would look like this:\n",
    "\n",
    "<img src=\"assets/sequence_batching@1x.png\" width=500px>\n",
    "\n",
    "\n",
    "<br>\n",
    "\n",
    "In this example, we'll take the encoded characters (passed in as the `arr` parameter) and split them into multiple sequences, given by `batch_size`. Each of our sequences will be `seq_length` long.\n",
    "\n",
    "### Creating Batches\n",
    "\n",
    "**1. The first thing we need to do is discard some of the text so we only have completely full mini-batches. **\n",
    "\n",
    "Each batch contains $N \\times M$ characters, where $N$ is the batch size (the number of sequences in a batch) and $M$ is the seq_length or number of time steps in a sequence. Then, to get the total number of batches, $K$, that we can make from the array `arr`, you divide the length of `arr` by the number of characters per batch. Once you know the number of batches, you can get the total number of characters to keep from `arr`, $N * M * K$.\n",
    "\n",
    "**2. After that, we need to split `arr` into $N$ batches. ** \n",
    "\n",
    "You can do this using `arr.reshape(size)` where `size` is a tuple containing the dimensions sizes of the reshaped array. We know we want $N$ sequences in a batch, so let's make that the size of the first dimension. For the second dimension, you can use `-1` as a placeholder in the size, it'll fill up the array with the appropriate data for you. After this, you should have an array that is $N \\times (M * K)$.\n",
    "\n",
    "**3. Now that we have this array, we can iterate through it to get our mini-batches. **\n",
    "\n",
    "The idea is each batch is a $N \\times M$ window on the $N \\times (M * K)$ array. For each subsequent batch, the window moves over by `seq_length`. We also want to create both the input and target arrays. Remember that the targets are just the inputs shifted over by one character. The way I like to do this window is use `range` to take steps of size `n_steps` from $0$ to `arr.shape[1]`, the total number of tokens in each sequence. That way, the integers you get from `range` always point to the start of a batch, and each window is `seq_length` wide.\n",
    "\n",
    "> **TODO:** Write the code for creating batches in the function below. The exercises in this notebook _will not be easy_. I've provided a notebook with solutions alongside this notebook. If you get stuck, checkout the solutions. The most important thing is that you don't copy and paste the code into here, **type out the solution code yourself.**"
   ]
  },
  {
   "cell_type": "code",
   "execution_count": 8,
   "metadata": {
    "collapsed": true
   },
   "outputs": [],
   "source": [
    "def get_batches(arr, batch_size, seq_length):\n",
    "    '''Create a generator that returns batches of size\n",
    "       batch_size x seq_length from arr.\n",
    "       \n",
    "       Arguments\n",
    "       ---------\n",
    "       arr: Array you want to make batches from\n",
    "       batch_size: Batch size, the number of sequences per batch\n",
    "       seq_length: Number of encoded chars in a sequence\n",
    "    '''\n",
    "    \n",
    "    ## TODO: Get the number of batches we can make\n",
    "    n_batches = len(arr)//(batch_size*seq_length)\n",
    "    \n",
    "    ## TODO: Keep only enough characters to make full batches\n",
    "    arr = arr[:n_batches*batch_size*seq_length]\n",
    "    \n",
    "    ## TODO: Reshape into batch_size rows\n",
    "    arr = arr.reshape(batch_size, -1)\n",
    "    \n",
    "    ## TODO: Iterate over the batches using a window of size seq_length\n",
    "    for n in range(0, arr.shape[1], seq_length):\n",
    "        # The features\n",
    "        x = arr[:, n:n+seq_length]\n",
    "        # The targets, shifted by one\n",
    "        y = np.zeros_like(x)\n",
    "        try:\n",
    "            y[:, :-1], y[:, -1] = x[:,1:], arr[:, n+seq_length]\n",
    "        except IndexError:\n",
    "            y[:, :-1], y[:, -1] = x[:,1:], arr[:, 0]\n",
    "        yield x, y"
   ]
  },
  {
   "cell_type": "markdown",
   "metadata": {},
   "source": [
    "### Test Your Implementation\n",
    "\n",
    "Now I'll make some data sets and we can check out what's going on as we batch data. Here, as an example, I'm going to use a batch size of 8 and 50 sequence steps."
   ]
  },
  {
   "cell_type": "code",
   "execution_count": 9,
   "metadata": {
    "collapsed": true
   },
   "outputs": [],
   "source": [
    "batches = get_batches(encoded, 8, 50)\n",
    "x, y = next(batches)"
   ]
  },
  {
   "cell_type": "code",
   "execution_count": 10,
   "metadata": {},
   "outputs": [
    {
     "name": "stdout",
     "output_type": "stream",
     "text": [
      "x\n",
      " [[ 4  3 82 34 67  5  8 35 61 57]\n",
      " [60 26  1 35 67  3 82 67 35 82]\n",
      " [ 5  1 49 35 26  8 35 82 35 69]\n",
      " [60 35 67  3  5 35 70  3 14  5]\n",
      " [35 60 82 48 35  3  5  8 35 67]\n",
      " [70 25 60 60 14 26  1 35 82  1]\n",
      " [35 15  1  1 82 35  3 82 49 35]\n",
      " [52 68 40 26  1 60  0 27  6 35]]\n",
      "\n",
      "y\n",
      " [[ 3 82 34 67  5  8 35 61 57 57]\n",
      " [26  1 35 67  3 82 67 35 82 67]\n",
      " [ 1 49 35 26  8 35 82 35 69 26]\n",
      " [35 67  3  5 35 70  3 14  5 69]\n",
      " [60 82 48 35  3  5  8 35 67  5]\n",
      " [25 60 60 14 26  1 35 82  1 49]\n",
      " [15  1  1 82 35  3 82 49 35 60]\n",
      " [68 40 26  1 60  0 27  6 35 72]]\n"
     ]
    }
   ],
   "source": [
    "# printing out the first 10 items in a sequence\n",
    "print('x\\n', x[:10, :10])\n",
    "print('\\ny\\n', y[:10, :10])"
   ]
  },
  {
   "cell_type": "markdown",
   "metadata": {},
   "source": [
    "If you implemented `get_batches` correctly, the above output should look something like \n",
    "```\n",
    "x\n",
    " [[25  8 60 11 45 27 28 73  1  2]\n",
    " [17  7 20 73 45  8 60 45 73 60]\n",
    " [27 20 80 73  7 28 73 60 73 65]\n",
    " [17 73 45  8 27 73 66  8 46 27]\n",
    " [73 17 60 12 73  8 27 28 73 45]\n",
    " [66 64 17 17 46  7 20 73 60 20]\n",
    " [73 76 20 20 60 73  8 60 80 73]\n",
    " [47 35 43  7 20 17 24 50 37 73]]\n",
    "\n",
    "y\n",
    " [[ 8 60 11 45 27 28 73  1  2  2]\n",
    " [ 7 20 73 45  8 60 45 73 60 45]\n",
    " [20 80 73  7 28 73 60 73 65  7]\n",
    " [73 45  8 27 73 66  8 46 27 65]\n",
    " [17 60 12 73  8 27 28 73 45 27]\n",
    " [64 17 17 46  7 20 73 60 20 80]\n",
    " [76 20 20 60 73  8 60 80 73 17]\n",
    " [35 43  7 20 17 24 50 37 73 36]]\n",
    " ```\n",
    " although the exact numbers may be different. Check to make sure the data is shifted over one step for `y`."
   ]
  },
  {
   "cell_type": "markdown",
   "metadata": {},
   "source": [
    "---\n",
    "## Defining the network with PyTorch\n",
    "\n",
    "Below is where you'll define the network.\n",
    "\n",
    "<img src=\"assets/charRNN.png\" width=500px>\n",
    "\n",
    "Next, you'll use PyTorch to define the architecture of the network. We start by defining the layers and operations we want. Then, define a method for the forward pass. You've also been given a method for predicting characters."
   ]
  },
  {
   "cell_type": "markdown",
   "metadata": {},
   "source": [
    "### Model Structure\n",
    "\n",
    "In `__init__` the suggested structure is as follows:\n",
    "* Create and store the necessary dictionaries (this has been done for you)\n",
    "* Define an LSTM layer that takes as params: an input size (the number of characters), a hidden layer size `n_hidden`, a number of layers `n_layers`, a dropout probability `drop_prob`, and a batch_first boolean (True, since we are batching)\n",
    "* Define a dropout layer with `drop_prob`\n",
    "* Define a fully-connected layer with params: input size `n_hidden` and output size (the number of characters)\n",
    "* Finally, initialize the weights (again, this has been given)\n",
    "\n",
    "Note that some parameters have been named and given in the `__init__` function, and we use them and store them by doing something like `self.drop_prob = drop_prob`."
   ]
  },
  {
   "cell_type": "markdown",
   "metadata": {},
   "source": [
    "---\n",
    "### LSTM Inputs/Outputs\n",
    "\n",
    "You can create a basic [LSTM layer](https://pytorch.org/docs/stable/nn.html#lstm) as follows\n",
    "\n",
    "```python\n",
    "self.lstm = nn.LSTM(input_size, n_hidden, n_layers, \n",
    "                            dropout=drop_prob, batch_first=True)\n",
    "```\n",
    "\n",
    "where `input_size` is the number of characters this cell expects to see as sequential input, and `n_hidden` is the number of units in the hidden layers in the cell. And we can add dropout by adding a dropout parameter with a specified probability; this will automatically add dropout to the inputs or outputs. Finally, in the `forward` function, we can stack up the LSTM cells into layers using `.view`. With this, you pass in a list of cells and it will send the output of one cell into the next cell.\n",
    "\n",
    "We also need to create an initial hidden state of all zeros. This is done like so\n",
    "\n",
    "```python\n",
    "self.init_hidden()\n",
    "```"
   ]
  },
  {
   "cell_type": "code",
   "execution_count": 11,
   "metadata": {},
   "outputs": [
    {
     "name": "stdout",
     "output_type": "stream",
     "text": [
      "Training on GPU!\n"
     ]
    }
   ],
   "source": [
    "# check if GPU is available\n",
    "train_on_gpu = torch.cuda.is_available()\n",
    "if(train_on_gpu):\n",
    "    print('Training on GPU!')\n",
    "else: \n",
    "    print('No GPU available, training on CPU; consider making n_epochs very small.')"
   ]
  },
  {
   "cell_type": "code",
   "execution_count": 12,
   "metadata": {
    "collapsed": true
   },
   "outputs": [],
   "source": [
    "class CharRNN(nn.Module):\n",
    "    \n",
    "    def __init__(self, tokens, n_hidden=256, n_layers=2,\n",
    "                               drop_prob=0.5, lr=0.001):\n",
    "        super().__init__()\n",
    "        self.drop_prob = drop_prob\n",
    "        self.n_layers = n_layers\n",
    "        self.n_hidden = n_hidden\n",
    "        self.lr = lr\n",
    "        \n",
    "        # creating character dictionaries\n",
    "        self.chars = tokens\n",
    "        self.int2char = dict(enumerate(self.chars))\n",
    "        self.char2int = {ch: ii for ii, ch in self.int2char.items()}\n",
    "        \n",
    "        ## TODO: define the layers of the model\n",
    "        input_size = len(tokens)\n",
    "        output_size = input_size\n",
    "        \n",
    "        self.lstm = nn.LSTM(input_size, n_hidden, n_layers, dropout=drop_prob, batch_first=True)\n",
    "        self.drop = nn.Dropout(drop_prob)\n",
    "        self.fc = nn.Linear(n_hidden, output_size)\n",
    "    \n",
    "    def forward(self, x, hidden):\n",
    "        ''' Forward pass through the network. \n",
    "            These inputs are x, and the hidden/cell state `hidden`. '''\n",
    "                \n",
    "        ## TODO: Get the outputs and the new hidden state from the lstm\n",
    "        r_out, hidden = self.lstm(x, hidden)\n",
    "        r_out = r_out.reshape(-1, self.n_hidden)\n",
    "        r_out = self.drop(r_out)\n",
    "        out = self.fc(r_out)\n",
    "        # return the final output and the hidden state\n",
    "        return out, hidden\n",
    "    \n",
    "    \n",
    "    def init_hidden(self, batch_size):\n",
    "        ''' Initializes hidden state '''\n",
    "        # Create two new tensors with sizes n_layers x batch_size x n_hidden,\n",
    "        # initialized to zero, for hidden state and cell state of LSTM\n",
    "        weight = next(self.parameters()).data\n",
    "        \n",
    "        if (train_on_gpu):\n",
    "            hidden = (weight.new(self.n_layers, batch_size, self.n_hidden).zero_().cuda(),\n",
    "                  weight.new(self.n_layers, batch_size, self.n_hidden).zero_().cuda())\n",
    "        else:\n",
    "            hidden = (weight.new(self.n_layers, batch_size, self.n_hidden).zero_(),\n",
    "                      weight.new(self.n_layers, batch_size, self.n_hidden).zero_())\n",
    "        \n",
    "        return hidden\n",
    "        "
   ]
  },
  {
   "cell_type": "markdown",
   "metadata": {},
   "source": [
    "## Time to train\n",
    "\n",
    "The train function gives us the ability to set the number of epochs, the learning rate, and other parameters.\n",
    "\n",
    "Below we're using an Adam optimizer and cross entropy loss since we are looking at character class scores as output. We calculate the loss and perform backpropagation, as usual!\n",
    "\n",
    "A couple of details about training: \n",
    ">* Within the batch loop, we detach the hidden state from its history; this time setting it equal to a new *tuple* variable because an LSTM has a hidden state that is a tuple of the hidden and cell states.\n",
    "* We use [`clip_grad_norm_`](https://pytorch.org/docs/stable/_modules/torch/nn/utils/clip_grad.html) to help prevent exploding gradients."
   ]
  },
  {
   "cell_type": "code",
   "execution_count": 13,
   "metadata": {
    "collapsed": true
   },
   "outputs": [],
   "source": [
    "def train(net, data, epochs=10, batch_size=10, seq_length=50, lr=0.001, clip=5, val_frac=0.1, print_every=10):\n",
    "    ''' Training a network \n",
    "    \n",
    "        Arguments\n",
    "        ---------\n",
    "        \n",
    "        net: CharRNN network\n",
    "        data: text data to train the network\n",
    "        epochs: Number of epochs to train\n",
    "        batch_size: Number of mini-sequences per mini-batch, aka batch size\n",
    "        seq_length: Number of character steps per mini-batch\n",
    "        lr: learning rate\n",
    "        clip: gradient clipping\n",
    "        val_frac: Fraction of data to hold out for validation\n",
    "        print_every: Number of steps for printing training and validation loss\n",
    "    \n",
    "    '''\n",
    "    net.train()\n",
    "    \n",
    "    opt = torch.optim.Adam(net.parameters(), lr=lr)\n",
    "    criterion = nn.CrossEntropyLoss()\n",
    "    \n",
    "    # create training and validation data\n",
    "    val_idx = int(len(data)*(1-val_frac))\n",
    "    data, val_data = data[:val_idx], data[val_idx:]\n",
    "    \n",
    "    if(train_on_gpu):\n",
    "        net.cuda()\n",
    "    \n",
    "    counter = 0\n",
    "    n_chars = len(net.chars)\n",
    "    for e in range(epochs):\n",
    "        # initialize hidden state\n",
    "        h = net.init_hidden(batch_size)\n",
    "        \n",
    "        for x, y in get_batches(data, batch_size, seq_length):\n",
    "            counter += 1\n",
    "            \n",
    "            # One-hot encode our data and make them Torch tensors\n",
    "            x = one_hot_encode(x, n_chars)\n",
    "            inputs, targets = torch.from_numpy(x), torch.from_numpy(y)\n",
    "            \n",
    "            if(train_on_gpu):\n",
    "                inputs, targets = inputs.cuda(), targets.cuda()\n",
    "\n",
    "            # Creating new variables for the hidden state, otherwise\n",
    "            # we'd backprop through the entire training history\n",
    "            h = tuple([each.data for each in h])\n",
    "\n",
    "            # zero accumulated gradients\n",
    "            net.zero_grad()\n",
    "            \n",
    "            # get the output from the model\n",
    "            output, h = net(inputs, h)\n",
    "            \n",
    "            # calculate the loss and perform backprop\n",
    "            loss = criterion(output, targets.view(batch_size*seq_length).long())\n",
    "            loss.backward()\n",
    "            # `clip_grad_norm` helps prevent the exploding gradient problem in RNNs / LSTMs.\n",
    "            nn.utils.clip_grad_norm_(net.parameters(), clip)\n",
    "            opt.step()\n",
    "            \n",
    "            # loss stats\n",
    "            if counter % print_every == 0:\n",
    "                # Get validation loss\n",
    "                val_h = net.init_hidden(batch_size)\n",
    "                val_losses = []\n",
    "                net.eval()\n",
    "                for x, y in get_batches(val_data, batch_size, seq_length):\n",
    "                    # One-hot encode our data and make them Torch tensors\n",
    "                    x = one_hot_encode(x, n_chars)\n",
    "                    x, y = torch.from_numpy(x), torch.from_numpy(y)\n",
    "                    \n",
    "                    # Creating new variables for the hidden state, otherwise\n",
    "                    # we'd backprop through the entire training history\n",
    "                    val_h = tuple([each.data for each in val_h])\n",
    "                    \n",
    "                    inputs, targets = x, y\n",
    "                    if(train_on_gpu):\n",
    "                        inputs, targets = inputs.cuda(), targets.cuda()\n",
    "\n",
    "                    output, val_h = net(inputs, val_h)\n",
    "                    val_loss = criterion(output, targets.view(batch_size*seq_length).long())\n",
    "                \n",
    "                    val_losses.append(val_loss.item())\n",
    "                \n",
    "                net.train() # reset to train mode after iterationg through validation data\n",
    "                \n",
    "                print(\"Epoch: {}/{}...\".format(e+1, epochs),\n",
    "                      \"Step: {}...\".format(counter),\n",
    "                      \"Loss: {:.4f}...\".format(loss.item()),\n",
    "                      \"Val Loss: {:.4f}\".format(np.mean(val_losses)))"
   ]
  },
  {
   "cell_type": "markdown",
   "metadata": {},
   "source": [
    "## Instantiating the model\n",
    "\n",
    "Now we can actually train the network. First we'll create the network itself, with some given hyperparameters. Then, define the mini-batches sizes, and start training!"
   ]
  },
  {
   "cell_type": "code",
   "execution_count": 18,
   "metadata": {},
   "outputs": [
    {
     "name": "stdout",
     "output_type": "stream",
     "text": [
      "CharRNN(\n",
      "  (lstm): LSTM(83, 128, num_layers=2, batch_first=True, dropout=0.5)\n",
      "  (drop): Dropout(p=0.5)\n",
      "  (fc): Linear(in_features=128, out_features=83, bias=True)\n",
      ")\n",
      "251859\n"
     ]
    }
   ],
   "source": [
    "## TODO: set your model hyperparameters\n",
    "# define and print the net\n",
    "n_hidden=128\n",
    "n_layers=2\n",
    "\n",
    "net = CharRNN(chars, n_hidden, n_layers)\n",
    "print(net)\n",
    "\n",
    "total = 0\n",
    "for param in net.parameters():\n",
    "    size = param.size()\n",
    "    l = 1\n",
    "    for s in size:\n",
    "        l *= s\n",
    "    total += l\n",
    "print(total)"
   ]
  },
  {
   "cell_type": "markdown",
   "metadata": {},
   "source": [
    "### Set your training hyperparameters!"
   ]
  },
  {
   "cell_type": "code",
   "execution_count": 19,
   "metadata": {
    "scrolled": true
   },
   "outputs": [
    {
     "name": "stdout",
     "output_type": "stream",
     "text": [
      "Epoch: 1/20... Step: 10... Loss: 4.1135... Val Loss: 3.9568\n",
      "Epoch: 1/20... Step: 20... Loss: 3.2557... Val Loss: 3.1509\n",
      "Epoch: 1/20... Step: 30... Loss: 3.2351... Val Loss: 3.1160\n",
      "Epoch: 1/20... Step: 40... Loss: 3.1974... Val Loss: 3.1091\n",
      "Epoch: 1/20... Step: 50... Loss: 3.1712... Val Loss: 3.1051\n",
      "Epoch: 1/20... Step: 60... Loss: 3.1601... Val Loss: 3.1028\n",
      "Epoch: 2/20... Step: 70... Loss: 3.1739... Val Loss: 3.1005\n",
      "Epoch: 2/20... Step: 80... Loss: 3.1234... Val Loss: 3.0979\n",
      "Epoch: 2/20... Step: 90... Loss: 3.1313... Val Loss: 3.0969\n",
      "Epoch: 2/20... Step: 100... Loss: 3.1398... Val Loss: 3.0955\n",
      "Epoch: 2/20... Step: 110... Loss: 3.1260... Val Loss: 3.0934\n",
      "Epoch: 2/20... Step: 120... Loss: 3.1140... Val Loss: 3.0914\n",
      "Epoch: 2/20... Step: 130... Loss: 3.1271... Val Loss: 3.0886\n",
      "Epoch: 3/20... Step: 140... Loss: 3.1264... Val Loss: 3.0830\n",
      "Epoch: 3/20... Step: 150... Loss: 3.0972... Val Loss: 3.0753\n",
      "Epoch: 3/20... Step: 160... Loss: 3.0878... Val Loss: 3.0633\n",
      "Epoch: 3/20... Step: 170... Loss: 3.0821... Val Loss: 3.0422\n",
      "Epoch: 3/20... Step: 180... Loss: 3.0520... Val Loss: 3.0110\n",
      "Epoch: 3/20... Step: 190... Loss: 3.0296... Val Loss: 2.9614\n",
      "Epoch: 3/20... Step: 200... Loss: 2.9668... Val Loss: 2.8972\n",
      "Epoch: 4/20... Step: 210... Loss: 2.9129... Val Loss: 2.8369\n",
      "Epoch: 4/20... Step: 220... Loss: 2.8561... Val Loss: 2.7755\n",
      "Epoch: 4/20... Step: 230... Loss: 2.8084... Val Loss: 2.7177\n",
      "Epoch: 4/20... Step: 240... Loss: 2.7728... Val Loss: 2.6708\n",
      "Epoch: 4/20... Step: 250... Loss: 2.7409... Val Loss: 2.6320\n",
      "Epoch: 4/20... Step: 260... Loss: 2.7089... Val Loss: 2.6013\n",
      "Epoch: 4/20... Step: 270... Loss: 2.6782... Val Loss: 2.5740\n",
      "Epoch: 5/20... Step: 280... Loss: 2.6615... Val Loss: 2.5512\n",
      "Epoch: 5/20... Step: 290... Loss: 2.6348... Val Loss: 2.5298\n",
      "Epoch: 5/20... Step: 300... Loss: 2.6107... Val Loss: 2.5126\n",
      "Epoch: 5/20... Step: 310... Loss: 2.5849... Val Loss: 2.4958\n",
      "Epoch: 5/20... Step: 320... Loss: 2.5809... Val Loss: 2.4798\n",
      "Epoch: 5/20... Step: 330... Loss: 2.5705... Val Loss: 2.4743\n",
      "Epoch: 5/20... Step: 340... Loss: 2.5750... Val Loss: 2.4588\n",
      "Epoch: 6/20... Step: 350... Loss: 2.5578... Val Loss: 2.4461\n",
      "Epoch: 6/20... Step: 360... Loss: 2.5391... Val Loss: 2.4358\n",
      "Epoch: 6/20... Step: 370... Loss: 2.5320... Val Loss: 2.4253\n",
      "Epoch: 6/20... Step: 380... Loss: 2.5210... Val Loss: 2.4169\n",
      "Epoch: 6/20... Step: 390... Loss: 2.5061... Val Loss: 2.4053\n",
      "Epoch: 6/20... Step: 400... Loss: 2.5026... Val Loss: 2.3967\n",
      "Epoch: 6/20... Step: 410... Loss: 2.5029... Val Loss: 2.3870\n",
      "Epoch: 7/20... Step: 420... Loss: 2.5093... Val Loss: 2.3827\n",
      "Epoch: 7/20... Step: 430... Loss: 2.4819... Val Loss: 2.3735\n",
      "Epoch: 7/20... Step: 440... Loss: 2.4763... Val Loss: 2.3615\n",
      "Epoch: 7/20... Step: 450... Loss: 2.4560... Val Loss: 2.3508\n",
      "Epoch: 7/20... Step: 460... Loss: 2.4490... Val Loss: 2.3419\n",
      "Epoch: 7/20... Step: 470... Loss: 2.4516... Val Loss: 2.3373\n",
      "Epoch: 7/20... Step: 480... Loss: 2.4338... Val Loss: 2.3285\n",
      "Epoch: 8/20... Step: 490... Loss: 2.4387... Val Loss: 2.3178\n",
      "Epoch: 8/20... Step: 500... Loss: 2.4166... Val Loss: 2.3124\n",
      "Epoch: 8/20... Step: 510... Loss: 2.4192... Val Loss: 2.3049\n",
      "Epoch: 8/20... Step: 520... Loss: 2.4085... Val Loss: 2.2982\n",
      "Epoch: 8/20... Step: 530... Loss: 2.4008... Val Loss: 2.2916\n",
      "Epoch: 8/20... Step: 540... Loss: 2.3901... Val Loss: 2.2832\n",
      "Epoch: 8/20... Step: 550... Loss: 2.3781... Val Loss: 2.2773\n",
      "Epoch: 9/20... Step: 560... Loss: 2.3828... Val Loss: 2.2710\n",
      "Epoch: 9/20... Step: 570... Loss: 2.3744... Val Loss: 2.2666\n",
      "Epoch: 9/20... Step: 580... Loss: 2.3817... Val Loss: 2.2603\n",
      "Epoch: 9/20... Step: 590... Loss: 2.3578... Val Loss: 2.2514\n",
      "Epoch: 9/20... Step: 600... Loss: 2.3615... Val Loss: 2.2430\n",
      "Epoch: 9/20... Step: 610... Loss: 2.3625... Val Loss: 2.2389\n",
      "Epoch: 9/20... Step: 620... Loss: 2.3422... Val Loss: 2.2324\n",
      "Epoch: 10/20... Step: 630... Loss: 2.3353... Val Loss: 2.2245\n",
      "Epoch: 10/20... Step: 640... Loss: 2.3334... Val Loss: 2.2162\n",
      "Epoch: 10/20... Step: 650... Loss: 2.3299... Val Loss: 2.2127\n",
      "Epoch: 10/20... Step: 660... Loss: 2.3126... Val Loss: 2.2030\n",
      "Epoch: 10/20... Step: 670... Loss: 2.3093... Val Loss: 2.1958\n",
      "Epoch: 10/20... Step: 680... Loss: 2.3210... Val Loss: 2.1942\n",
      "Epoch: 10/20... Step: 690... Loss: 2.3082... Val Loss: 2.1848\n",
      "Epoch: 11/20... Step: 700... Loss: 2.3005... Val Loss: 2.1787\n",
      "Epoch: 11/20... Step: 710... Loss: 2.2854... Val Loss: 2.1707\n",
      "Epoch: 11/20... Step: 720... Loss: 2.2949... Val Loss: 2.1643\n",
      "Epoch: 11/20... Step: 730... Loss: 2.2897... Val Loss: 2.1588\n",
      "Epoch: 11/20... Step: 740... Loss: 2.2940... Val Loss: 2.1519\n",
      "Epoch: 11/20... Step: 750... Loss: 2.2749... Val Loss: 2.1456\n",
      "Epoch: 12/20... Step: 760... Loss: 2.2996... Val Loss: 2.1412\n",
      "Epoch: 12/20... Step: 770... Loss: 2.2517... Val Loss: 2.1351\n",
      "Epoch: 12/20... Step: 780... Loss: 2.2307... Val Loss: 2.1293\n",
      "Epoch: 12/20... Step: 790... Loss: 2.2475... Val Loss: 2.1257\n",
      "Epoch: 12/20... Step: 800... Loss: 2.2226... Val Loss: 2.1211\n",
      "Epoch: 12/20... Step: 810... Loss: 2.2295... Val Loss: 2.1148\n",
      "Epoch: 12/20... Step: 820... Loss: 2.2264... Val Loss: 2.1086\n",
      "Epoch: 13/20... Step: 830... Loss: 2.2520... Val Loss: 2.1058\n",
      "Epoch: 13/20... Step: 840... Loss: 2.2089... Val Loss: 2.0984\n",
      "Epoch: 13/20... Step: 850... Loss: 2.2110... Val Loss: 2.0924\n",
      "Epoch: 13/20... Step: 860... Loss: 2.2208... Val Loss: 2.0882\n",
      "Epoch: 13/20... Step: 870... Loss: 2.2127... Val Loss: 2.0826\n",
      "Epoch: 13/20... Step: 880... Loss: 2.2170... Val Loss: 2.0789\n",
      "Epoch: 13/20... Step: 890... Loss: 2.2148... Val Loss: 2.0744\n",
      "Epoch: 14/20... Step: 900... Loss: 2.2083... Val Loss: 2.0698\n",
      "Epoch: 14/20... Step: 910... Loss: 2.1984... Val Loss: 2.0664\n",
      "Epoch: 14/20... Step: 920... Loss: 2.1816... Val Loss: 2.0626\n",
      "Epoch: 14/20... Step: 930... Loss: 2.1913... Val Loss: 2.0565\n",
      "Epoch: 14/20... Step: 940... Loss: 2.1930... Val Loss: 2.0507\n",
      "Epoch: 14/20... Step: 950... Loss: 2.1684... Val Loss: 2.0472\n",
      "Epoch: 14/20... Step: 960... Loss: 2.1678... Val Loss: 2.0443\n",
      "Epoch: 15/20... Step: 970... Loss: 2.1632... Val Loss: 2.0388\n",
      "Epoch: 15/20... Step: 980... Loss: 2.1720... Val Loss: 2.0360\n",
      "Epoch: 15/20... Step: 990... Loss: 2.1506... Val Loss: 2.0300\n",
      "Epoch: 15/20... Step: 1000... Loss: 2.1427... Val Loss: 2.0265\n",
      "Epoch: 15/20... Step: 1010... Loss: 2.1365... Val Loss: 2.0220\n",
      "Epoch: 15/20... Step: 1020... Loss: 2.1516... Val Loss: 2.0190\n",
      "Epoch: 15/20... Step: 1030... Loss: 2.1588... Val Loss: 2.0144\n",
      "Epoch: 16/20... Step: 1040... Loss: 2.1368... Val Loss: 2.0103\n",
      "Epoch: 16/20... Step: 1050... Loss: 2.1375... Val Loss: 2.0117\n",
      "Epoch: 16/20... Step: 1060... Loss: 2.1453... Val Loss: 2.0040\n",
      "Epoch: 16/20... Step: 1070... Loss: 2.1438... Val Loss: 1.9993\n",
      "Epoch: 16/20... Step: 1080... Loss: 2.1337... Val Loss: 1.9938\n",
      "Epoch: 16/20... Step: 1090... Loss: 2.1248... Val Loss: 1.9923\n",
      "Epoch: 16/20... Step: 1100... Loss: 2.1292... Val Loss: 1.9877\n",
      "Epoch: 17/20... Step: 1110... Loss: 2.1517... Val Loss: 1.9836\n",
      "Epoch: 17/20... Step: 1120... Loss: 2.1139... Val Loss: 1.9813\n",
      "Epoch: 17/20... Step: 1130... Loss: 2.1177... Val Loss: 1.9775\n",
      "Epoch: 17/20... Step: 1140... Loss: 2.1034... Val Loss: 1.9726\n",
      "Epoch: 17/20... Step: 1150... Loss: 2.1017... Val Loss: 1.9687\n",
      "Epoch: 17/20... Step: 1160... Loss: 2.1034... Val Loss: 1.9686\n",
      "Epoch: 17/20... Step: 1170... Loss: 2.0968... Val Loss: 1.9625\n",
      "Epoch: 18/20... Step: 1180... Loss: 2.0942... Val Loss: 1.9582\n",
      "Epoch: 18/20... Step: 1190... Loss: 2.0856... Val Loss: 1.9553\n",
      "Epoch: 18/20... Step: 1200... Loss: 2.1000... Val Loss: 1.9524\n",
      "Epoch: 18/20... Step: 1210... Loss: 2.0966... Val Loss: 1.9499\n",
      "Epoch: 18/20... Step: 1220... Loss: 2.0862... Val Loss: 1.9444\n",
      "Epoch: 18/20... Step: 1230... Loss: 2.0879... Val Loss: 1.9433\n",
      "Epoch: 18/20... Step: 1240... Loss: 2.0745... Val Loss: 1.9390\n",
      "Epoch: 19/20... Step: 1250... Loss: 2.0688... Val Loss: 1.9364\n",
      "Epoch: 19/20... Step: 1260... Loss: 2.0765... Val Loss: 1.9320\n",
      "Epoch: 19/20... Step: 1270... Loss: 2.0804... Val Loss: 1.9283\n",
      "Epoch: 19/20... Step: 1280... Loss: 2.0640... Val Loss: 1.9249\n",
      "Epoch: 19/20... Step: 1290... Loss: 2.0602... Val Loss: 1.9209\n",
      "Epoch: 19/20... Step: 1300... Loss: 2.0837... Val Loss: 1.9219\n",
      "Epoch: 19/20... Step: 1310... Loss: 2.0565... Val Loss: 1.9167\n",
      "Epoch: 20/20... Step: 1320... Loss: 2.0496... Val Loss: 1.9123\n",
      "Epoch: 20/20... Step: 1330... Loss: 2.0557... Val Loss: 1.9108\n"
     ]
    },
    {
     "name": "stdout",
     "output_type": "stream",
     "text": [
      "Epoch: 20/20... Step: 1340... Loss: 2.0552... Val Loss: 1.9045\n",
      "Epoch: 20/20... Step: 1350... Loss: 2.0493... Val Loss: 1.9032\n",
      "Epoch: 20/20... Step: 1360... Loss: 2.0498... Val Loss: 1.8993\n",
      "Epoch: 20/20... Step: 1370... Loss: 2.0463... Val Loss: 1.8975\n",
      "Epoch: 20/20... Step: 1380... Loss: 2.0441... Val Loss: 1.8921\n"
     ]
    }
   ],
   "source": [
    "batch_size = 256\n",
    "seq_length = 100\n",
    "n_epochs = 20 # start small if you are just testing initial behavior\n",
    "\n",
    "# train the model\n",
    "train(net, encoded, epochs=n_epochs, batch_size=batch_size, seq_length=seq_length, lr=0.001, print_every=10)"
   ]
  },
  {
   "cell_type": "markdown",
   "metadata": {},
   "source": [
    "## Getting the best model\n",
    "\n",
    "To set your hyperparameters to get the best performance, you'll want to watch the training and validation losses. If your training loss is much lower than the validation loss, you're overfitting. Increase regularization (more dropout) or use a smaller network. If the training and validation losses are close, you're underfitting so you can increase the size of the network."
   ]
  },
  {
   "cell_type": "markdown",
   "metadata": {},
   "source": [
    "## Hyperparameters\n",
    "\n",
    "Here are the hyperparameters for the network.\n",
    "\n",
    "In defining the model:\n",
    "* `n_hidden` - The number of units in the hidden layers.\n",
    "* `n_layers` - Number of hidden LSTM layers to use.\n",
    "\n",
    "We assume that dropout probability and learning rate will be kept at the default, in this example.\n",
    "\n",
    "And in training:\n",
    "* `batch_size` - Number of sequences running through the network in one pass.\n",
    "* `seq_length` - Number of characters in the sequence the network is trained on. Larger is better typically, the network will learn more long range dependencies. But it takes longer to train. 100 is typically a good number here.\n",
    "* `lr` - Learning rate for training\n",
    "\n",
    "Here's some good advice from Andrej Karpathy on training the network. I'm going to copy it in here for your benefit, but also link to [where it originally came from](https://github.com/karpathy/char-rnn#tips-and-tricks).\n",
    "\n",
    "> ## Tips and Tricks\n",
    "\n",
    ">### Monitoring Validation Loss vs. Training Loss\n",
    ">If you're somewhat new to Machine Learning or Neural Networks it can take a bit of expertise to get good models. The most important quantity to keep track of is the difference between your training loss (printed during training) and the validation loss (printed once in a while when the RNN is run on the validation data (by default every 1000 iterations)). In particular:\n",
    "\n",
    "> - If your training loss is much lower than validation loss then this means the network might be **overfitting**. Solutions to this are to decrease your network size, or to increase dropout. For example you could try dropout of 0.5 and so on.\n",
    "> - If your training/validation loss are about equal then your model is **underfitting**. Increase the size of your model (either number of layers or the raw number of neurons per layer)\n",
    "\n",
    "> ### Approximate number of parameters\n",
    "\n",
    "> The two most important parameters that control the model are `n_hidden` and `n_layers`. I would advise that you always use `n_layers` of either 2/3. The `n_hidden` can be adjusted based on how much data you have. The two important quantities to keep track of here are:\n",
    "\n",
    "> - The number of parameters in your model. This is printed when you start training.\n",
    "> - The size of your dataset. 1MB file is approximately 1 million characters.\n",
    "\n",
    ">These two should be about the same order of magnitude. It's a little tricky to tell. Here are some examples:\n",
    "\n",
    "> - I have a 100MB dataset and I'm using the default parameter settings (which currently print 150K parameters). My data size is significantly larger (100 mil >> 0.15 mil), so I expect to heavily underfit. I am thinking I can comfortably afford to make `n_hidden` larger.\n",
    "> - I have a 10MB dataset and running a 10 million parameter model. I'm slightly nervous and I'm carefully monitoring my validation loss. If it's larger than my training loss then I may want to try to increase dropout a bit and see if that helps the validation loss.\n",
    "\n",
    "> ### Best models strategy\n",
    "\n",
    ">The winning strategy to obtaining very good models (if you have the compute time) is to always err on making the network larger (as large as you're willing to wait for it to compute) and then try different dropout values (between 0,1). Whatever model has the best validation performance (the loss, written in the checkpoint filename, low is good) is the one you should use in the end.\n",
    "\n",
    ">It is very common in deep learning to run many different models with many different hyperparameter settings, and in the end take whatever checkpoint gave the best validation performance.\n",
    "\n",
    ">By the way, the size of your training and validation splits are also parameters. Make sure you have a decent amount of data in your validation set or otherwise the validation performance will be noisy and not very informative."
   ]
  },
  {
   "cell_type": "markdown",
   "metadata": {},
   "source": [
    "## Checkpoint\n",
    "\n",
    "After training, we'll save the model so we can load it again later if we need too. Here I'm saving the parameters needed to create the same architecture, the hidden layer hyperparameters and the text characters."
   ]
  },
  {
   "cell_type": "code",
   "execution_count": 20,
   "metadata": {
    "collapsed": true
   },
   "outputs": [],
   "source": [
    "# change the name, for saving multiple files\n",
    "model_name = 'rnn_x_epoch.net'\n",
    "\n",
    "checkpoint = {'n_hidden': net.n_hidden,\n",
    "              'n_layers': net.n_layers,\n",
    "              'state_dict': net.state_dict(),\n",
    "              'tokens': net.chars}\n",
    "\n",
    "with open(model_name, 'wb') as f:\n",
    "    torch.save(checkpoint, f)"
   ]
  },
  {
   "cell_type": "markdown",
   "metadata": {},
   "source": [
    "---\n",
    "## Making Predictions\n",
    "\n",
    "Now that the model is trained, we'll want to sample from it and make predictions about next characters! To sample, we pass in a character and have the network predict the next character. Then we take that character, pass it back in, and get another predicted character. Just keep doing this and you'll generate a bunch of text!\n",
    "\n",
    "### A note on the `predict`  function\n",
    "\n",
    "The output of our RNN is from a fully-connected layer and it outputs a **distribution of next-character scores**.\n",
    "\n",
    "> To actually get the next character, we apply a softmax function, which gives us a *probability* distribution that we can then sample to predict the next character.\n",
    "\n",
    "### Top K sampling\n",
    "\n",
    "Our predictions come from a categorical probability distribution over all the possible characters. We can make the sample text and make it more reasonable to handle (with less variables) by only considering some $K$ most probable characters. This will prevent the network from giving us completely absurd characters while allowing it to introduce some noise and randomness into the sampled text. Read more about [topk, here](https://pytorch.org/docs/stable/torch.html#torch.topk).\n"
   ]
  },
  {
   "cell_type": "code",
   "execution_count": 21,
   "metadata": {
    "collapsed": true
   },
   "outputs": [],
   "source": [
    "def predict(net, char, h=None, top_k=None):\n",
    "        ''' Given a character, predict the next character.\n",
    "            Returns the predicted character and the hidden state.\n",
    "        '''\n",
    "        \n",
    "        # tensor inputs\n",
    "        x = np.array([[net.char2int[char]]])\n",
    "        x = one_hot_encode(x, len(net.chars))\n",
    "        inputs = torch.from_numpy(x)\n",
    "        \n",
    "        if(train_on_gpu):\n",
    "            inputs = inputs.cuda()\n",
    "        \n",
    "        # detach hidden state from history\n",
    "        h = tuple([each.data for each in h])\n",
    "        # get the output of the model\n",
    "        out, h = net(inputs, h)\n",
    "\n",
    "        # get the character probabilities\n",
    "        p = F.softmax(out, dim=1).data\n",
    "        if(train_on_gpu):\n",
    "            p = p.cpu() # move to cpu\n",
    "        \n",
    "        # get top characters\n",
    "        if top_k is None:\n",
    "            top_ch = np.arange(len(net.chars))\n",
    "        else:\n",
    "            p, top_ch = p.topk(top_k)\n",
    "            top_ch = top_ch.numpy().squeeze()\n",
    "        \n",
    "        # select the likely next character with some element of randomness\n",
    "        p = p.numpy().squeeze()\n",
    "        char = np.random.choice(top_ch, p=p/p.sum())\n",
    "        \n",
    "        # return the encoded value of the predicted char and the hidden state\n",
    "        return net.int2char[char], h"
   ]
  },
  {
   "cell_type": "markdown",
   "metadata": {},
   "source": [
    "### Priming and generating text \n",
    "\n",
    "Typically you'll want to prime the network so you can build up a hidden state. Otherwise the network will start out generating characters at random. In general the first bunch of characters will be a little rough since it hasn't built up a long history of characters to predict from."
   ]
  },
  {
   "cell_type": "code",
   "execution_count": 22,
   "metadata": {
    "collapsed": true
   },
   "outputs": [],
   "source": [
    "def sample(net, size, prime='The', top_k=None):\n",
    "        \n",
    "    if(train_on_gpu):\n",
    "        net.cuda()\n",
    "    else:\n",
    "        net.cpu()\n",
    "    \n",
    "    net.eval() # eval mode\n",
    "    \n",
    "    # First off, run through the prime characters\n",
    "    chars = [ch for ch in prime]\n",
    "    h = net.init_hidden(1)\n",
    "    for ch in prime:\n",
    "        char, h = predict(net, ch, h, top_k=top_k)\n",
    "\n",
    "    chars.append(char)\n",
    "    \n",
    "    # Now pass in the previous character and get a new one\n",
    "    for ii in range(size):\n",
    "        char, h = predict(net, chars[-1], h, top_k=top_k)\n",
    "        chars.append(char)\n",
    "\n",
    "    return ''.join(chars)"
   ]
  },
  {
   "cell_type": "code",
   "execution_count": 23,
   "metadata": {},
   "outputs": [
    {
     "name": "stdout",
     "output_type": "stream",
     "text": [
      "Anna of. \"And and some him shere his thas ale have and a lith shatt.\" That the cordised oul and to to a sald, and here siming and weling wict and so see was soment here, sourd of his this to her shat were was at to her thret sithis of winct one had his the wan of the sarl to to were her that had\n",
      "at was the wistort woust her seltes and at the time has the the wing the\n",
      "couls oner, all thoughs, she\n",
      "wamert her and whis wat has her hand of the wouske to whas had haver the sourted of worges had to had the\n",
      "sated we worll, she than had his sounss he woment. She\n",
      "was she heas wat so the herteld, the\n",
      "datint ant the drent her to the the chers tater a dicther a dead the sate her tome, the denting her\n",
      "tome, stise\n",
      "her and has wanting her a sorese the there wher she sathitit of his\n",
      "ass ander tho she selp an as to a dard had his wond tallind he soor whan\n",
      "her to\n",
      "had whusher and some the had some, and ther tistiss of the satter ther and aleving of\n",
      "wishing to sist of seen time he was seing, the tarling the hin\n"
     ]
    }
   ],
   "source": [
    "print(sample(net, 1000, prime='Anna', top_k=5))"
   ]
  },
  {
   "cell_type": "markdown",
   "metadata": {},
   "source": [
    "## Loading a checkpoint"
   ]
  },
  {
   "cell_type": "code",
   "execution_count": 24,
   "metadata": {
    "collapsed": true
   },
   "outputs": [],
   "source": [
    "# Here we have loaded in a model that trained over 20 epochs `rnn_20_epoch.net`\n",
    "with open('rnn_x_epoch.net', 'rb') as f:\n",
    "    checkpoint = torch.load(f)\n",
    "    \n",
    "loaded = CharRNN(checkpoint['tokens'], n_hidden=checkpoint['n_hidden'], n_layers=checkpoint['n_layers'])\n",
    "loaded.load_state_dict(checkpoint['state_dict'])"
   ]
  },
  {
   "cell_type": "code",
   "execution_count": 25,
   "metadata": {},
   "outputs": [
    {
     "name": "stdout",
     "output_type": "stream",
     "text": [
      "And Levin said wish ant thas said. He wile, somered the sould with thit as\n",
      "all to ham.\n",
      " \"Yas thame to sert the courss, whith at,\" he sail\n",
      "to the ditter, as of the sortent, wat have sime and her his thouth, at out his wat\n",
      "his\n",
      "alrine out of thit sar homeress the dicter at, himes tist to the ware was the sissed. To his soul thit and he to sale wat her astering, and hourted the hertisg of were to the\n",
      "dice her and sale thet thein hid the tare whan sair teer and werled,\n",
      "and his tout at of the hissily.\n",
      "\n",
      "\"Yom wous a to to the dind her wound the shead.\"\n",
      "\n",
      "\"I's son, he seathen. \"Astangan with that, was shay and to the tound wout tise\n",
      "wish the the dars, and was her the whime\n",
      "to was her whe hard how, thit, whas was was astand, the tare, so to a dace.\n",
      "\n",
      "He tallind tiss of that the to than wither to so to were she her, the deater was that the she wad har of, and to hit her hind, he wam of some of whot he her was at to her was hus all to though, whime to as the deen the this, hes hound, the congat on to the\n",
      "panting the sissed and the worll the see the whotirg tourt, and his saristered wording ther the wand wong, with and his her of werted his sintans he her to his hard was would the cherent his, asd\n",
      "the sass wele,\n",
      "she to couther and his hers hid sacted his water the dectare him shat a whose at and to sarly the teed and thit a salither\n",
      "wat the shat the torliting a deon to sise of with had sais at, he had and her and her her so the he ald he to that at, she\n",
      "dingiting him had were that and thore wish homere and the dentan hadse the sincither hither her her had and wates, hid all his\n",
      "hinted of him the the dow would were a thas\n",
      "the wosd wich of and\n",
      "sased wame the soung a dome his wassed and him on to his hording to a that hell the teer.\n",
      "\n",
      "At the chassing and his a pecenting.\"\" all\n",
      "atestert. Ald to and shitiled woundssing when so to with his sintens, she shough the sor and sal the\n",
      "couscill.\n",
      "\n",
      "The corle and\n",
      "and werling. Bot\n",
      "the sonesed were there houlse hid the centol the shene hit the wame the das of the\n",
      "\n"
     ]
    }
   ],
   "source": [
    "# Sample using a loaded model\n",
    "print(sample(loaded, 2000, top_k=5, prime=\"And Levin said\"))"
   ]
  },
  {
   "cell_type": "code",
   "execution_count": null,
   "metadata": {
    "collapsed": true
   },
   "outputs": [],
   "source": []
  }
 ],
 "metadata": {
  "kernelspec": {
   "display_name": "Python 3",
   "language": "python",
   "name": "python3"
  },
  "language_info": {
   "codemirror_mode": {
    "name": "ipython",
    "version": 3
   },
   "file_extension": ".py",
   "mimetype": "text/x-python",
   "name": "python",
   "nbconvert_exporter": "python",
   "pygments_lexer": "ipython3",
   "version": "3.6.2"
  }
 },
 "nbformat": 4,
 "nbformat_minor": 2
}
